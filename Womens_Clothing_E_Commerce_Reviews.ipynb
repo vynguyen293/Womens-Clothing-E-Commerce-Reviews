{
 "cells": [
  {
   "cell_type": "markdown",
   "id": "ebfcb5f4",
   "metadata": {},
   "source": [
    "***Nguyen Thi Tuong Vy***"
   ]
  },
  {
   "cell_type": "code",
   "execution_count": 1,
   "id": "cdaf19d3",
   "metadata": {},
   "outputs": [],
   "source": [
    "import findspark\n",
    "findspark.init()"
   ]
  },
  {
   "cell_type": "code",
   "execution_count": 2,
   "id": "99ac23d3",
   "metadata": {},
   "outputs": [],
   "source": [
    "import pyspark"
   ]
  },
  {
   "cell_type": "code",
   "execution_count": 3,
   "id": "aa5c0a47",
   "metadata": {},
   "outputs": [],
   "source": [
    "# import libraries\n",
    "from pyspark import SparkContext\n",
    "from pyspark.conf import SparkConf\n",
    "from pyspark.sql import SparkSession\n",
    "\n",
    "from pyspark.ml.classification import LogisticRegression\n",
    "from pyspark.ml.evaluation import BinaryClassificationEvaluator\n",
    "from pyspark.ml import Pipeline\n",
    "\n",
    "import pandas as pd"
   ]
  },
  {
   "cell_type": "markdown",
   "id": "a67ae6a2",
   "metadata": {},
   "source": [
    "# Load Data"
   ]
  },
  {
   "cell_type": "code",
   "execution_count": 4,
   "id": "f17b5889",
   "metadata": {},
   "outputs": [],
   "source": [
    "spark = SparkSession.builder.appName(\"Womens_Clothing_E_Commerce_Reviews\").getOrCreate()"
   ]
  },
  {
   "cell_type": "code",
   "execution_count": 5,
   "id": "eb053996",
   "metadata": {},
   "outputs": [],
   "source": [
    "data = pd.read_excel(\"Womens_Clothing_E_Commerce_Reviews.xlsx\", sheet_name=\"Reviews\", engine=\"openpyxl\", index_col=0)"
   ]
  },
  {
   "cell_type": "code",
   "execution_count": 6,
   "id": "9ea2cf03",
   "metadata": {},
   "outputs": [],
   "source": [
    "data = spark.createDataFrame(data.astype(str))"
   ]
  },
  {
   "cell_type": "code",
   "execution_count": 7,
   "id": "7cc929ce",
   "metadata": {},
   "outputs": [
    {
     "name": "stdout",
     "output_type": "stream",
     "text": [
      "+-----------+---+--------------------+--------------------+------+---------------+-----------------------+-------------+---------------+----------+\n",
      "|Clothing ID|Age|               Title|         Review Text|Rating|Recommended IND|Positive Feedback Count|Division Name|Department Name|Class Name|\n",
      "+-----------+---+--------------------+--------------------+------+---------------+-----------------------+-------------+---------------+----------+\n",
      "|        767| 33|                 nan|Absolutely wonder...|     4|              1|                      0|    Initmates|       Intimate| Intimates|\n",
      "|       1080| 34|                 nan|Love this dress! ...|     5|              1|                      4|      General|        Dresses|   Dresses|\n",
      "|       1077| 60|Some major design...|I had such high h...|     3|              0|                      0|      General|        Dresses|   Dresses|\n",
      "+-----------+---+--------------------+--------------------+------+---------------+-----------------------+-------------+---------------+----------+\n",
      "only showing top 3 rows\n",
      "\n"
     ]
    }
   ],
   "source": [
    "data.show(3)"
   ]
  },
  {
   "cell_type": "code",
   "execution_count": 8,
   "id": "a665ae15",
   "metadata": {},
   "outputs": [
    {
     "name": "stdout",
     "output_type": "stream",
     "text": [
      "Row(Clothing ID='767', Age='33', Title='nan', Review Text='Absolutely wonderful - silky and sexy and comfortable', Rating='4', Recommended IND='1', Positive Feedback Count='0', Division Name='Initmates', Department Name='Intimate', Class Name='Intimates') \n",
      "\n",
      "Row(Clothing ID='1080', Age='34', Title='nan', Review Text='Love this dress!  it\\'s sooo pretty.  i happened to find it in a store, and i\\'m glad i did bc i never would have ordered it online bc it\\'s petite.  i bought a petite and am 5\\'8\".  i love the length on me- hits just a little below the knee.  would definitely be a true midi on someone who is truly petite.', Rating='5', Recommended IND='1', Positive Feedback Count='4', Division Name='General', Department Name='Dresses', Class Name='Dresses') \n",
      "\n",
      "Row(Clothing ID='1077', Age='60', Title='Some major design flaws', Review Text='I had such high hopes for this dress and really wanted it to work for me. i initially ordered the petite small (my usual size) but i found this to be outrageously small. so small in fact that i could not zip it up! i reordered it in petite medium, which was just ok. overall, the top half was comfortable and fit nicely, but the bottom half had a very tight under layer and several somewhat cheap (net) over layers. imo, a major design flaw was the net over layer sewn directly into the zipper - it c', Rating='3', Recommended IND='0', Positive Feedback Count='0', Division Name='General', Department Name='Dresses', Class Name='Dresses') \n",
      "\n",
      "Row(Clothing ID='1049', Age='50', Title='My favorite buy!', Review Text=\"I love, love, love this jumpsuit. it's fun, flirty, and fabulous! every time i wear it, i get nothing but great compliments!\", Rating='5', Recommended IND='1', Positive Feedback Count='0', Division Name='General Petite', Department Name='Bottoms', Class Name='Pants') \n",
      "\n",
      "Row(Clothing ID='847', Age='47', Title='Flattering shirt', Review Text='This shirt is very flattering to all due to the adjustable front tie. it is the perfect length to wear with leggings and it is sleeveless so it pairs well with any cardigan. love this shirt!!!', Rating='5', Recommended IND='1', Positive Feedback Count='6', Division Name='General', Department Name='Tops', Class Name='Blouses') \n",
      "\n"
     ]
    }
   ],
   "source": [
    "for line in data.head(5):\n",
    "    print(line, '\\n')"
   ]
  },
  {
   "cell_type": "code",
   "execution_count": 9,
   "id": "ef4192b3",
   "metadata": {},
   "outputs": [
    {
     "data": {
      "text/plain": [
       "23481"
      ]
     },
     "execution_count": 9,
     "metadata": {},
     "output_type": "execute_result"
    }
   ],
   "source": [
    "data.count()"
   ]
  },
  {
   "cell_type": "code",
   "execution_count": 10,
   "id": "7ba9a9c2",
   "metadata": {},
   "outputs": [
    {
     "name": "stdout",
     "output_type": "stream",
     "text": [
      "root\n",
      " |-- Clothing ID: string (nullable = true)\n",
      " |-- Age: string (nullable = true)\n",
      " |-- Title: string (nullable = true)\n",
      " |-- Review Text: string (nullable = true)\n",
      " |-- Rating: string (nullable = true)\n",
      " |-- Recommended IND: string (nullable = true)\n",
      " |-- Positive Feedback Count: string (nullable = true)\n",
      " |-- Division Name: string (nullable = true)\n",
      " |-- Department Name: string (nullable = true)\n",
      " |-- Class Name: string (nullable = true)\n",
      "\n"
     ]
    }
   ],
   "source": [
    "data.printSchema()"
   ]
  },
  {
   "cell_type": "code",
   "execution_count": 11,
   "id": "6d0a59e6",
   "metadata": {},
   "outputs": [
    {
     "name": "stdout",
     "output_type": "stream",
     "text": [
      "+-------+------------------+------------------+--------------------+--------------------+------------------+-------------------+-----------------------+-------------+---------------+----------+\n",
      "|summary|       Clothing ID|               Age|               Title|         Review Text|            Rating|    Recommended IND|Positive Feedback Count|Division Name|Department Name|Class Name|\n",
      "+-------+------------------+------------------+--------------------+--------------------+------------------+-------------------+-----------------------+-------------+---------------+----------+\n",
      "|  count|             23481|             23481|               23481|               23481|             23481|              23481|                  23481|        23481|          23481|     23481|\n",
      "|   mean|  918.108641028917| 43.19837315276181|                null|                null| 4.196286359184021| 0.8224521953920191|     2.5353690217622757|         null|           null|      null|\n",
      "| stddev|203.31464963720921|12.279291680205553|                null|                null|1.1098198084654944|0.38213976604340594|      5.702127864380744|         null|           null|      null|\n",
      "|    min|                 0|                18|    \"beach business\"|\"does this sweate...|                 1|                  0|                      0|      General|        Bottoms|   Blouses|\n",
      "|    max|               999|                99|~~so very retailer~~|                 nan|                 5|                  1|                     99|          nan|            nan|       nan|\n",
      "+-------+------------------+------------------+--------------------+--------------------+------------------+-------------------+-----------------------+-------------+---------------+----------+\n",
      "\n"
     ]
    }
   ],
   "source": [
    "data.describe().show()"
   ]
  },
  {
   "cell_type": "code",
   "execution_count": 12,
   "id": "a72f83f1",
   "metadata": {},
   "outputs": [
    {
     "data": {
      "text/plain": [
       "['Clothing ID',\n",
       " 'Age',\n",
       " 'Title',\n",
       " 'Review Text',\n",
       " 'Rating',\n",
       " 'Recommended IND',\n",
       " 'Positive Feedback Count',\n",
       " 'Division Name',\n",
       " 'Department Name',\n",
       " 'Class Name']"
      ]
     },
     "execution_count": 12,
     "metadata": {},
     "output_type": "execute_result"
    }
   ],
   "source": [
    "data.columns"
   ]
  },
  {
   "cell_type": "markdown",
   "id": "8dbd59bc",
   "metadata": {},
   "source": [
    "# Clean and Prepare the Data"
   ]
  },
  {
   "cell_type": "code",
   "execution_count": 13,
   "id": "51643dc0",
   "metadata": {},
   "outputs": [],
   "source": [
    "from pyspark.sql.functions import *"
   ]
  },
  {
   "cell_type": "code",
   "execution_count": 14,
   "id": "786b510c",
   "metadata": {},
   "outputs": [
    {
     "data": {
      "text/html": [
       "<div>\n",
       "<style scoped>\n",
       "    .dataframe tbody tr th:only-of-type {\n",
       "        vertical-align: middle;\n",
       "    }\n",
       "\n",
       "    .dataframe tbody tr th {\n",
       "        vertical-align: top;\n",
       "    }\n",
       "\n",
       "    .dataframe thead th {\n",
       "        text-align: right;\n",
       "    }\n",
       "</style>\n",
       "<table border=\"1\" class=\"dataframe\">\n",
       "  <thead>\n",
       "    <tr style=\"text-align: right;\">\n",
       "      <th></th>\n",
       "      <th>0</th>\n",
       "    </tr>\n",
       "  </thead>\n",
       "  <tbody>\n",
       "    <tr>\n",
       "      <th>Clothing ID</th>\n",
       "      <td>0</td>\n",
       "    </tr>\n",
       "    <tr>\n",
       "      <th>Age</th>\n",
       "      <td>0</td>\n",
       "    </tr>\n",
       "    <tr>\n",
       "      <th>Title</th>\n",
       "      <td>0</td>\n",
       "    </tr>\n",
       "    <tr>\n",
       "      <th>Review Text</th>\n",
       "      <td>0</td>\n",
       "    </tr>\n",
       "    <tr>\n",
       "      <th>Rating</th>\n",
       "      <td>0</td>\n",
       "    </tr>\n",
       "    <tr>\n",
       "      <th>Recommended IND</th>\n",
       "      <td>0</td>\n",
       "    </tr>\n",
       "    <tr>\n",
       "      <th>Positive Feedback Count</th>\n",
       "      <td>0</td>\n",
       "    </tr>\n",
       "    <tr>\n",
       "      <th>Division Name</th>\n",
       "      <td>0</td>\n",
       "    </tr>\n",
       "    <tr>\n",
       "      <th>Department Name</th>\n",
       "      <td>0</td>\n",
       "    </tr>\n",
       "    <tr>\n",
       "      <th>Class Name</th>\n",
       "      <td>0</td>\n",
       "    </tr>\n",
       "  </tbody>\n",
       "</table>\n",
       "</div>"
      ],
      "text/plain": [
       "                         0\n",
       "Clothing ID              0\n",
       "Age                      0\n",
       "Title                    0\n",
       "Review Text              0\n",
       "Rating                   0\n",
       "Recommended IND          0\n",
       "Positive Feedback Count  0\n",
       "Division Name            0\n",
       "Department Name          0\n",
       "Class Name               0"
      ]
     },
     "execution_count": 14,
     "metadata": {},
     "output_type": "execute_result"
    }
   ],
   "source": [
    "# Check for NaN, null\n",
    "data.select([count(when(isnan(c), c)).alias(c) for c in data.columns]).toPandas().T"
   ]
  },
  {
   "cell_type": "code",
   "execution_count": 15,
   "id": "05dfc1dd",
   "metadata": {},
   "outputs": [
    {
     "data": {
      "text/html": [
       "<div>\n",
       "<style scoped>\n",
       "    .dataframe tbody tr th:only-of-type {\n",
       "        vertical-align: middle;\n",
       "    }\n",
       "\n",
       "    .dataframe tbody tr th {\n",
       "        vertical-align: top;\n",
       "    }\n",
       "\n",
       "    .dataframe thead th {\n",
       "        text-align: right;\n",
       "    }\n",
       "</style>\n",
       "<table border=\"1\" class=\"dataframe\">\n",
       "  <thead>\n",
       "    <tr style=\"text-align: right;\">\n",
       "      <th></th>\n",
       "      <th>0</th>\n",
       "    </tr>\n",
       "  </thead>\n",
       "  <tbody>\n",
       "    <tr>\n",
       "      <th>Clothing ID</th>\n",
       "      <td>0</td>\n",
       "    </tr>\n",
       "    <tr>\n",
       "      <th>Age</th>\n",
       "      <td>0</td>\n",
       "    </tr>\n",
       "    <tr>\n",
       "      <th>Title</th>\n",
       "      <td>0</td>\n",
       "    </tr>\n",
       "    <tr>\n",
       "      <th>Review Text</th>\n",
       "      <td>0</td>\n",
       "    </tr>\n",
       "    <tr>\n",
       "      <th>Rating</th>\n",
       "      <td>0</td>\n",
       "    </tr>\n",
       "    <tr>\n",
       "      <th>Recommended IND</th>\n",
       "      <td>0</td>\n",
       "    </tr>\n",
       "    <tr>\n",
       "      <th>Positive Feedback Count</th>\n",
       "      <td>0</td>\n",
       "    </tr>\n",
       "    <tr>\n",
       "      <th>Division Name</th>\n",
       "      <td>0</td>\n",
       "    </tr>\n",
       "    <tr>\n",
       "      <th>Department Name</th>\n",
       "      <td>0</td>\n",
       "    </tr>\n",
       "    <tr>\n",
       "      <th>Class Name</th>\n",
       "      <td>0</td>\n",
       "    </tr>\n",
       "  </tbody>\n",
       "</table>\n",
       "</div>"
      ],
      "text/plain": [
       "                         0\n",
       "Clothing ID              0\n",
       "Age                      0\n",
       "Title                    0\n",
       "Review Text              0\n",
       "Rating                   0\n",
       "Recommended IND          0\n",
       "Positive Feedback Count  0\n",
       "Division Name            0\n",
       "Department Name          0\n",
       "Class Name               0"
      ]
     },
     "execution_count": 15,
     "metadata": {},
     "output_type": "execute_result"
    }
   ],
   "source": [
    "data.select([count(when(col(c).isNull(), c)).alias(c) for c in data.columns]).toPandas().T"
   ]
  },
  {
   "cell_type": "markdown",
   "id": "091028f8",
   "metadata": {},
   "source": [
    "==> The dataset doesn't have NaN and Null"
   ]
  },
  {
   "cell_type": "code",
   "execution_count": 16,
   "id": "805d23c5",
   "metadata": {},
   "outputs": [],
   "source": [
    "# Check for duplicates\n",
    "n_rows = data.count()\n",
    "n_dist_rows = data.distinct().count()\n",
    "dup_rows = n_rows - n_dist_rows"
   ]
  },
  {
   "cell_type": "code",
   "execution_count": 17,
   "id": "660be56b",
   "metadata": {},
   "outputs": [
    {
     "data": {
      "text/plain": [
       "23481"
      ]
     },
     "metadata": {},
     "output_type": "display_data"
    },
    {
     "data": {
      "text/plain": [
       "23460"
      ]
     },
     "metadata": {},
     "output_type": "display_data"
    },
    {
     "data": {
      "text/plain": [
       "21"
      ]
     },
     "metadata": {},
     "output_type": "display_data"
    }
   ],
   "source": [
    "display(n_rows, n_dist_rows, dup_rows)"
   ]
  },
  {
   "cell_type": "markdown",
   "id": "4ac1630a",
   "metadata": {},
   "source": [
    "==> The dataset has duplicated rows"
   ]
  },
  {
   "cell_type": "code",
   "execution_count": 18,
   "id": "ce01f479",
   "metadata": {},
   "outputs": [],
   "source": [
    "# Delete duplicates\n",
    "data = data.drop_duplicates()"
   ]
  },
  {
   "cell_type": "code",
   "execution_count": 19,
   "id": "f1d6b8a4",
   "metadata": {},
   "outputs": [
    {
     "name": "stdout",
     "output_type": "stream",
     "text": [
      "There are 23460 rows after deleting duplicated rows\n"
     ]
    }
   ],
   "source": [
    "print(\"There are {} rows after deleting duplicated rows\".format(data.count()))"
   ]
  },
  {
   "cell_type": "code",
   "execution_count": 20,
   "id": "c9864c52",
   "metadata": {},
   "outputs": [],
   "source": [
    "from pyspark.sql.functions import length"
   ]
  },
  {
   "cell_type": "code",
   "execution_count": 21,
   "id": "e8bc5075",
   "metadata": {},
   "outputs": [],
   "source": [
    "data = data.withColumn(\"length\", length(data[\"Review Text\"]))"
   ]
  },
  {
   "cell_type": "code",
   "execution_count": 22,
   "id": "51264fe8",
   "metadata": {},
   "outputs": [
    {
     "name": "stdout",
     "output_type": "stream",
     "text": [
      "+-----------+---+--------------------+--------------------+------+---------------+-----------------------+--------------+---------------+----------+------+\n",
      "|Clothing ID|Age|               Title|         Review Text|Rating|Recommended IND|Positive Feedback Count| Division Name|Department Name|Class Name|length|\n",
      "+-----------+---+--------------------+--------------------+------+---------------+-----------------------+--------------+---------------+----------+------+\n",
      "|       1081| 59|                 nan|I passed up this ...|     5|              1|                      1|General Petite|        Dresses|   Dresses|   500|\n",
      "|        895| 63|Tunic doesn't loo...|Nice weight sweat...|     5|              1|                      1|       General|           Tops|Fine gauge|   241|\n",
      "|        872| 71|                 nan|Great shirt. the ...|     5|              1|                      0|       General|           Tops|     Knits|   274|\n",
      "|        745| 28|The softest leggings|These leggings ar...|     5|              1|                      2|     Initmates|       Intimate|   Legwear|   178|\n",
      "|        936| 32|                 nan|It pills a little...|     5|              1|                      0|       General|           Tops|  Sweaters|   303|\n",
      "+-----------+---+--------------------+--------------------+------+---------------+-----------------------+--------------+---------------+----------+------+\n",
      "only showing top 5 rows\n",
      "\n"
     ]
    }
   ],
   "source": [
    "data.show(5)"
   ]
  },
  {
   "cell_type": "code",
   "execution_count": 23,
   "id": "d80aa692",
   "metadata": {},
   "outputs": [
    {
     "name": "stdout",
     "output_type": "stream",
     "text": [
      "+------+------------------+\n",
      "|Rating|       avg(length)|\n",
      "+------+------------------+\n",
      "|     3|322.97317073170734|\n",
      "|     5|286.01006864988557|\n",
      "|     1| 297.4946492271106|\n",
      "|     4| 312.8264039408867|\n",
      "|     2| 316.1668797953964|\n",
      "+------+------------------+\n",
      "\n"
     ]
    }
   ],
   "source": [
    "data.groupby(\"Rating\").mean().show()"
   ]
  },
  {
   "cell_type": "markdown",
   "id": "9f505f49",
   "metadata": {},
   "source": [
    "# Feature Transformations"
   ]
  },
  {
   "cell_type": "code",
   "execution_count": 24,
   "id": "574734f6",
   "metadata": {},
   "outputs": [],
   "source": [
    "from pyspark.ml.feature import Tokenizer,StopWordsRemover\n",
    "from pyspark.ml.feature import CountVectorizer, IDF, StringIndexer\n",
    "\n",
    "tokenizer = Tokenizer(inputCol=\"Review Text\", outputCol=\"token_text\")\n",
    "stopremove = StopWordsRemover(inputCol=\"token_text\", outputCol=\"stop_tokens\")\n",
    "count_vec = CountVectorizer(inputCol=\"stop_tokens\", outputCol=\"c_vec\")\n",
    "idf = IDF(inputCol=\"c_vec\", outputCol=\"tf_idf\")\n",
    "to_number = StringIndexer(inputCol=\"Rating\", outputCol=\"label\")"
   ]
  },
  {
   "cell_type": "code",
   "execution_count": 25,
   "id": "8a4ee2d6",
   "metadata": {},
   "outputs": [],
   "source": [
    "from pyspark.ml.feature import VectorAssembler\n",
    "from pyspark.ml.linalg import Vector"
   ]
  },
  {
   "cell_type": "code",
   "execution_count": 26,
   "id": "466228b4",
   "metadata": {},
   "outputs": [],
   "source": [
    "clean_up = VectorAssembler(inputCols=[\"tf_idf\", \"length\"], outputCol=\"features\")"
   ]
  },
  {
   "cell_type": "markdown",
   "id": "7f338624",
   "metadata": {},
   "source": [
    "# Build The Model"
   ]
  },
  {
   "cell_type": "markdown",
   "id": "665bf332",
   "metadata": {},
   "source": [
    "## 1. NaiveBayes"
   ]
  },
  {
   "cell_type": "code",
   "execution_count": 27,
   "id": "8ce1ab46",
   "metadata": {},
   "outputs": [],
   "source": [
    "from pyspark.ml.classification import NaiveBayes"
   ]
  },
  {
   "cell_type": "code",
   "execution_count": 28,
   "id": "8977f0dc",
   "metadata": {},
   "outputs": [],
   "source": [
    "nb = NaiveBayes()"
   ]
  },
  {
   "cell_type": "markdown",
   "id": "56912894",
   "metadata": {},
   "source": [
    "Pipeline"
   ]
  },
  {
   "cell_type": "code",
   "execution_count": 29,
   "id": "c66dee92",
   "metadata": {},
   "outputs": [],
   "source": [
    "from pyspark.ml import Pipeline"
   ]
  },
  {
   "cell_type": "code",
   "execution_count": 30,
   "id": "14820356",
   "metadata": {},
   "outputs": [],
   "source": [
    "data_prep_pipe = Pipeline(stages=[to_number, tokenizer,\n",
    "                                  stopremove, count_vec,\n",
    "                                  idf, clean_up])"
   ]
  },
  {
   "cell_type": "code",
   "execution_count": 31,
   "id": "8d50e776",
   "metadata": {},
   "outputs": [],
   "source": [
    "cleaner = data_prep_pipe.fit(data)\n",
    "clean_data = cleaner.transform(data)"
   ]
  },
  {
   "cell_type": "markdown",
   "id": "cb789f33",
   "metadata": {},
   "source": [
    "Training and Evaluating"
   ]
  },
  {
   "cell_type": "code",
   "execution_count": 32,
   "id": "5fbde898",
   "metadata": {},
   "outputs": [
    {
     "name": "stdout",
     "output_type": "stream",
     "text": [
      "+-----+--------------------+\n",
      "|label|            features|\n",
      "+-----+--------------------+\n",
      "|  0.0|(38356,[1,4,8,13,...|\n",
      "|  0.0|(38356,[3,4,17,24...|\n",
      "|  0.0|(38356,[7,9,13,15...|\n",
      "|  0.0|(38356,[3,5,10,23...|\n",
      "|  0.0|(38356,[0,4,11,15...|\n",
      "|  0.0|(38356,[133,38355...|\n",
      "|  4.0|(38356,[19,24,28,...|\n",
      "|  1.0|(38356,[2,5,10,16...|\n",
      "|  0.0|(38356,[4,5,10,16...|\n",
      "|  0.0|(38356,[0,2,6,14,...|\n",
      "+-----+--------------------+\n",
      "only showing top 10 rows\n",
      "\n"
     ]
    }
   ],
   "source": [
    "clean_data = clean_data.select([\"label\", \"features\"])\n",
    "clean_data.show(10)"
   ]
  },
  {
   "cell_type": "code",
   "execution_count": 33,
   "id": "27e0ffab",
   "metadata": {},
   "outputs": [],
   "source": [
    "(training, testing) = clean_data.randomSplit([0.7, 0.3])"
   ]
  },
  {
   "cell_type": "code",
   "execution_count": 34,
   "id": "6db79417",
   "metadata": {},
   "outputs": [],
   "source": [
    "nbModel = nb.fit(training)"
   ]
  },
  {
   "cell_type": "code",
   "execution_count": 35,
   "id": "2b96cb26",
   "metadata": {},
   "outputs": [
    {
     "name": "stdout",
     "output_type": "stream",
     "text": [
      "root\n",
      " |-- Clothing ID: string (nullable = true)\n",
      " |-- Age: string (nullable = true)\n",
      " |-- Title: string (nullable = true)\n",
      " |-- Review Text: string (nullable = true)\n",
      " |-- Rating: string (nullable = true)\n",
      " |-- Recommended IND: string (nullable = true)\n",
      " |-- Positive Feedback Count: string (nullable = true)\n",
      " |-- Division Name: string (nullable = true)\n",
      " |-- Department Name: string (nullable = true)\n",
      " |-- Class Name: string (nullable = true)\n",
      " |-- length: integer (nullable = true)\n",
      "\n"
     ]
    }
   ],
   "source": [
    "data.printSchema()"
   ]
  },
  {
   "cell_type": "code",
   "execution_count": 36,
   "id": "0b6c0ba6",
   "metadata": {},
   "outputs": [],
   "source": [
    "test_results = nbModel.transform(testing)"
   ]
  },
  {
   "cell_type": "code",
   "execution_count": 37,
   "id": "0d58e64e",
   "metadata": {},
   "outputs": [
    {
     "name": "stdout",
     "output_type": "stream",
     "text": [
      "+-----+--------------------+--------------------+--------------------+----------+\n",
      "|label|            features|       rawPrediction|         probability|prediction|\n",
      "+-----+--------------------+--------------------+--------------------+----------+\n",
      "|  0.0|(38356,[0,2,6,14,...|[-1821.8495064102...|[0.99998115615575...|       0.0|\n",
      "|  0.0|(38356,[0,6,25,32...|[-1422.3694682226...|[0.00256508219177...|       1.0|\n",
      "|  0.0|(38356,[1,4,8,13,...|[-1838.0004288153...|[1.0,5.3858740704...|       0.0|\n",
      "|  0.0|(38356,[2,5,25,10...|[-1077.9260456315...|[1.0,3.6343103586...|       0.0|\n",
      "|  0.0|(38356,[2,7,11,30...|[-844.72226047346...|[0.98449100977947...|       0.0|\n",
      "|  0.0|(38356,[4,5,10,16...|[-2318.2354538445...|[0.99999352960251...|       0.0|\n",
      "|  0.0|(38356,[4,6,11,18...|[-2685.0123664157...|[2.84880303061502...|       1.0|\n",
      "|  0.0|(38356,[6,10,17,2...|[-1092.2246379669...|[1.0,3.5790957657...|       0.0|\n",
      "|  0.0|(38356,[6,10,30,4...|[-1668.0406313214...|[0.99243809566153...|       0.0|\n",
      "|  0.0|(38356,[7,9,13,15...|[-1371.2669072236...|[1.07575541051885...|       2.0|\n",
      "+-----+--------------------+--------------------+--------------------+----------+\n",
      "only showing top 10 rows\n",
      "\n"
     ]
    }
   ],
   "source": [
    "test_results.show(10)"
   ]
  },
  {
   "cell_type": "code",
   "execution_count": 38,
   "id": "54de824d",
   "metadata": {},
   "outputs": [
    {
     "name": "stdout",
     "output_type": "stream",
     "text": [
      "+-----+----------+-----+\n",
      "|label|prediction|count|\n",
      "+-----+----------+-----+\n",
      "|  2.0|       0.0|   90|\n",
      "|  1.0|       1.0|  536|\n",
      "|  3.0|       2.0|  192|\n",
      "|  4.0|       2.0|   68|\n",
      "|  0.0|       1.0|  781|\n",
      "|  0.0|       4.0|   83|\n",
      "|  1.0|       0.0|  533|\n",
      "|  2.0|       2.0|  342|\n",
      "|  3.0|       1.0|   83|\n",
      "|  2.0|       3.0|  166|\n",
      "|  1.0|       4.0|   29|\n",
      "|  4.0|       4.0|   43|\n",
      "|  2.0|       4.0|   55|\n",
      "|  3.0|       4.0|   42|\n",
      "|  2.0|       1.0|  227|\n",
      "|  1.0|       2.0|  283|\n",
      "|  0.0|       0.0| 2655|\n",
      "|  1.0|       3.0|  108|\n",
      "|  4.0|       3.0|   67|\n",
      "|  0.0|       2.0|  242|\n",
      "+-----+----------+-----+\n",
      "only showing top 20 rows\n",
      "\n"
     ]
    }
   ],
   "source": [
    "test_results.groupBy(\"label\", \"prediction\").count().show()"
   ]
  },
  {
   "cell_type": "code",
   "execution_count": 39,
   "id": "c026b200",
   "metadata": {},
   "outputs": [],
   "source": [
    "from pyspark.ml.evaluation import MulticlassClassificationEvaluator"
   ]
  },
  {
   "cell_type": "code",
   "execution_count": 40,
   "id": "4133b036",
   "metadata": {},
   "outputs": [
    {
     "name": "stdout",
     "output_type": "stream",
     "text": [
      "Accuracy of model: 0.5484841599625897\n"
     ]
    }
   ],
   "source": [
    "acc_eval = MulticlassClassificationEvaluator()\n",
    "acc = acc_eval.evaluate(test_results)\n",
    "print(\"Accuracy of model: {}\".format(acc))"
   ]
  },
  {
   "cell_type": "markdown",
   "id": "9dd583e5",
   "metadata": {},
   "source": [
    "- The result is not really good (only ~55%)\n",
    "- Should try with other models"
   ]
  },
  {
   "cell_type": "markdown",
   "id": "14f0e127",
   "metadata": {},
   "source": [
    "## 2. LogisticRegression"
   ]
  },
  {
   "cell_type": "code",
   "execution_count": 41,
   "id": "ed54e08b",
   "metadata": {},
   "outputs": [],
   "source": [
    "from pyspark.ml.classification import LogisticRegression"
   ]
  },
  {
   "cell_type": "code",
   "execution_count": 42,
   "id": "0aa32de3",
   "metadata": {},
   "outputs": [],
   "source": [
    "logistic = LogisticRegression(featuresCol=\"features\",\n",
    "                     labelCol=\"label\",\n",
    "                     predictionCol=\"prediction\")   "
   ]
  },
  {
   "cell_type": "code",
   "execution_count": 43,
   "id": "f528cb80",
   "metadata": {},
   "outputs": [],
   "source": [
    "logisticModel = logistic.fit(training)"
   ]
  },
  {
   "cell_type": "code",
   "execution_count": 44,
   "id": "02953a06",
   "metadata": {},
   "outputs": [
    {
     "name": "stdout",
     "output_type": "stream",
     "text": [
      "+-----+----------+-----+\n",
      "|label|prediction|count|\n",
      "+-----+----------+-----+\n",
      "|  2.0|       0.0|  189|\n",
      "|  1.0|       1.0|  498|\n",
      "|  3.0|       2.0|  140|\n",
      "|  4.0|       2.0|   65|\n",
      "|  0.0|       1.0|  841|\n",
      "|  0.0|       4.0|   30|\n",
      "|  1.0|       0.0|  685|\n",
      "|  2.0|       2.0|  272|\n",
      "|  3.0|       1.0|  120|\n",
      "|  2.0|       3.0|  126|\n",
      "|  1.0|       4.0|   29|\n",
      "|  4.0|       4.0|   42|\n",
      "|  2.0|       4.0|   36|\n",
      "|  3.0|       4.0|   44|\n",
      "|  2.0|       1.0|  257|\n",
      "|  1.0|       2.0|  221|\n",
      "|  0.0|       0.0| 2777|\n",
      "|  1.0|       3.0|   56|\n",
      "|  4.0|       3.0|   37|\n",
      "|  0.0|       2.0|  214|\n",
      "+-----+----------+-----+\n",
      "only showing top 20 rows\n",
      "\n"
     ]
    }
   ],
   "source": [
    "# Evaluate Model\n",
    "test_model = logisticModel.transform(testing)\n",
    "test_model.groupBy(\"label\", \"prediction\").count().show()"
   ]
  },
  {
   "cell_type": "code",
   "execution_count": 45,
   "id": "1fece5f2",
   "metadata": {},
   "outputs": [
    {
     "name": "stdout",
     "output_type": "stream",
     "text": [
      "Accuracy of model: 0.5299158290703699\n"
     ]
    }
   ],
   "source": [
    "acc_eval = MulticlassClassificationEvaluator()\n",
    "acc_1 = acc_eval.evaluate(test_model)\n",
    "print(\"Accuracy of model: {}\".format(acc_1))"
   ]
  },
  {
   "cell_type": "markdown",
   "id": "7b4450a7",
   "metadata": {},
   "source": [
    "## 3. Random forest"
   ]
  },
  {
   "cell_type": "code",
   "execution_count": 46,
   "id": "f7351637",
   "metadata": {},
   "outputs": [],
   "source": [
    "from pyspark.ml.classification import RandomForestClassifier"
   ]
  },
  {
   "cell_type": "code",
   "execution_count": 47,
   "id": "31e9048a",
   "metadata": {},
   "outputs": [],
   "source": [
    "rf = RandomForestClassifier(labelCol=\"label\", \\\n",
    "                            featuresCol=\"features\", \\\n",
    "                            numTrees = 500, \\\n",
    "                            maxDepth = 5, \\\n",
    "                            maxBins = 64)"
   ]
  },
  {
   "cell_type": "code",
   "execution_count": 48,
   "id": "cdf61f35",
   "metadata": {},
   "outputs": [],
   "source": [
    "rfModel = rf.fit(training)"
   ]
  },
  {
   "cell_type": "code",
   "execution_count": 49,
   "id": "67369851",
   "metadata": {},
   "outputs": [
    {
     "name": "stdout",
     "output_type": "stream",
     "text": [
      "+-----+----------+-----+\n",
      "|label|prediction|count|\n",
      "+-----+----------+-----+\n",
      "|  2.0|       0.0|  880|\n",
      "|  1.0|       0.0| 1489|\n",
      "|  0.0|       0.0| 3913|\n",
      "|  4.0|       0.0|  227|\n",
      "|  3.0|       0.0|  470|\n",
      "+-----+----------+-----+\n",
      "\n"
     ]
    }
   ],
   "source": [
    "test_model_rf = rfModel.transform(testing)\n",
    "test_model_rf.groupBy(\"label\", \"prediction\").count().show()"
   ]
  },
  {
   "cell_type": "code",
   "execution_count": 50,
   "id": "9c692fdc",
   "metadata": {},
   "outputs": [
    {
     "name": "stdout",
     "output_type": "stream",
     "text": [
      "+----------+-----+\n",
      "|prediction|count|\n",
      "+----------+-----+\n",
      "|       0.0| 6979|\n",
      "+----------+-----+\n",
      "\n"
     ]
    }
   ],
   "source": [
    "test_model_rf.groupBy(\"prediction\").count().show()"
   ]
  },
  {
   "cell_type": "code",
   "execution_count": 51,
   "id": "85c554a4",
   "metadata": {},
   "outputs": [
    {
     "name": "stdout",
     "output_type": "stream",
     "text": [
      "Accuracy of model: 0.4028550948475246\n"
     ]
    }
   ],
   "source": [
    "acc_eval = MulticlassClassificationEvaluator()\n",
    "acc_2 = acc_eval.evaluate(test_model_rf)\n",
    "print(\"Accuracy of model: {}\".format(acc_2))"
   ]
  },
  {
   "cell_type": "markdown",
   "id": "d62cfb97",
   "metadata": {},
   "source": [
    "**Conclusion: Choose NaiveBayes Model because Accuracy Score is highest although it is only ~55%**"
   ]
  },
  {
   "cell_type": "markdown",
   "id": "88bb3df6",
   "metadata": {},
   "source": [
    "# Save and Load The Model"
   ]
  },
  {
   "cell_type": "code",
   "execution_count": 52,
   "id": "48814810",
   "metadata": {},
   "outputs": [],
   "source": [
    "# Save model\n",
    "nbModel.save(\"nbModel_Womens_Clothing_E_Commerce_Reviews_new\")"
   ]
  },
  {
   "cell_type": "code",
   "execution_count": 53,
   "id": "d587447a",
   "metadata": {},
   "outputs": [],
   "source": [
    "from pyspark.ml.classification import NaiveBayesModel"
   ]
  },
  {
   "cell_type": "code",
   "execution_count": 54,
   "id": "14198e23",
   "metadata": {},
   "outputs": [],
   "source": [
    "# Load Model\n",
    "nbModel2 = NaiveBayesModel.load(\"nbModel_Womens_Clothing_E_Commerce_Reviews_new\")"
   ]
  },
  {
   "cell_type": "markdown",
   "id": "c10cc573",
   "metadata": {},
   "source": [
    "# Predict New Data"
   ]
  },
  {
   "cell_type": "code",
   "execution_count": 55,
   "id": "cb41d321",
   "metadata": {},
   "outputs": [],
   "source": [
    "new_data = pd.read_excel(\"Data/Womens_Clothing_E_Commerce_Reviews.xlsx\", sheet_name=\"new_reviews\", engine=\"openpyxl\", index_col=0)"
   ]
  },
  {
   "cell_type": "code",
   "execution_count": 56,
   "id": "5e77f602",
   "metadata": {},
   "outputs": [],
   "source": [
    "new_data = spark.createDataFrame(new_data.astype(str))"
   ]
  },
  {
   "cell_type": "code",
   "execution_count": 57,
   "id": "60b5a3da",
   "metadata": {},
   "outputs": [],
   "source": [
    "new_data = new_data.withColumn(\"length\", length(new_data[\"Review Text\"]))"
   ]
  },
  {
   "cell_type": "code",
   "execution_count": 58,
   "id": "c848659d",
   "metadata": {},
   "outputs": [],
   "source": [
    "tokenizer_ud = Tokenizer(inputCol=\"Review Text\", outputCol=\"token_text_ud\")\n",
    "stopremove_ud = StopWordsRemover(inputCol=\"token_text_ud\", outputCol=\"stop_tokens_ud\")\n",
    "count_vec_ud = CountVectorizer(inputCol=\"stop_tokens_ud\", outputCol=\"c_vec_ud\")\n",
    "idf_ud = IDF(inputCol=\"c_vec_ud\", outputCol=\"tf_idf_ud\")"
   ]
  },
  {
   "cell_type": "code",
   "execution_count": 59,
   "id": "ba2ed307",
   "metadata": {},
   "outputs": [],
   "source": [
    "clean_up_ud = VectorAssembler(inputCols=[\"tf_idf_ud\", \"length\"], outputCol=\"features\")"
   ]
  },
  {
   "cell_type": "code",
   "execution_count": 60,
   "id": "2c4391e2",
   "metadata": {},
   "outputs": [],
   "source": [
    "data_prep_pipe_ud = Pipeline(stages=[tokenizer_ud,\n",
    "                                  stopremove_ud, count_vec_ud,\n",
    "                                  idf_ud, clean_up_ud])"
   ]
  },
  {
   "cell_type": "code",
   "execution_count": 61,
   "id": "f34e0150",
   "metadata": {},
   "outputs": [],
   "source": [
    "cleaner_ud = data_prep_pipe_ud.fit(new_data)\n",
    "clean_data_ud = cleaner.transform(new_data)"
   ]
  },
  {
   "cell_type": "code",
   "execution_count": 62,
   "id": "1a3a28b8",
   "metadata": {},
   "outputs": [],
   "source": [
    "unlabeled_data = clean_data_ud.select(\"features\")"
   ]
  },
  {
   "cell_type": "code",
   "execution_count": 63,
   "id": "e34025d8",
   "metadata": {},
   "outputs": [],
   "source": [
    "predictions = nbModel2.transform(unlabeled_data)"
   ]
  },
  {
   "cell_type": "code",
   "execution_count": 64,
   "id": "77dc5495",
   "metadata": {},
   "outputs": [
    {
     "name": "stdout",
     "output_type": "stream",
     "text": [
      "+-------------------------------------------------------------------------------------------------------------------------------------------------------------------------------------------------------------------------------------------------------------------------------------------------------------------------------------------------------------------------------------------------------------------------------------------------------------------------------------------------------------------------------------------------------------------------------------------------------------------------------------------------------------------------------------------------------------------------------------------------------------------------------------------------------------------------------------------------------------------------------------------------------------------------------------------------------------+-------------------------------------------------------------------------------------------------------------+----------+\n",
      "|features                                                                                                                                                                                                                                                                                                                                                                                                                                                                                                                                                                                                                                                                                                                                                                                                                                                                                                                                                     |probability                                                                                                  |prediction|\n",
      "+-------------------------------------------------------------------------------------------------------------------------------------------------------------------------------------------------------------------------------------------------------------------------------------------------------------------------------------------------------------------------------------------------------------------------------------------------------------------------------------------------------------------------------------------------------------------------------------------------------------------------------------------------------------------------------------------------------------------------------------------------------------------------------------------------------------------------------------------------------------------------------------------------------------------------------------------------------------+-------------------------------------------------------------------------------------------------------------+----------+\n",
      "|(38356,[1,6,10,16,19,20,28,32,50,54,85,138,175,201,238,290,342,348,430,586,1265,1473,2075,2290,2963,3022,3586,3809,6099,6612,38355],[3.085413329464418,1.7997620796049987,1.9268691921365053,2.199059087972515,2.221601822584953,2.1936930344678762,2.4302092416498327,2.4880230475374048,2.6784843638679914,2.734657394149804,6.0751128648128905,3.384752632390634,3.592295243262364,3.688069927216869,3.866650619250445,4.079158466357775,4.234149129434758,4.193797833911192,4.517917302565404,4.826652784215017,5.706385920355374,5.9042116636852935,6.349522680340658,6.507746685555552,6.88504091669702,6.97205229368665,7.172722989148801,7.290506024805184,7.98365320536513,8.117184597989652,336.0])                                                                                                                                                                                                                                                |[1.326894663814821E-43,7.677942152611851E-18,0.9999999999968807,2.874299646358471E-12,2.4480798618073996E-13]|2.0       |\n",
      "|(38356,[7,9,13,21,24,33,35,42,54,71,82,89,118,124,147,184,188,197,200,208,215,308,362,457,506,637,682,684,704,705,713,814,1194,1460,2951,3548,3606,4314,4777,6057,6936,38355],[3.4060466228018815,1.935690184351885,2.045128043551367,2.264982118215178,2.346188611746577,2.528866420770876,2.53207841496705,2.6124339508334264,2.734657394149804,2.968030369757835,3.014708338323083,3.1132382920441932,3.2888708606873513,3.3586803920808586,3.431092969649336,3.6931937642167387,3.6562147609756512,3.6628373017361446,3.6512764793350687,3.7423264527943836,3.782698908084771,4.2489642152199,4.240048851561947,4.502413116029438,4.590824073373491,4.859088059968171,4.957149273144385,5.019669630125719,4.975498411812581,5.100250116785058,5.000499714017999,5.128620813914274,5.608747450791458,5.873440005018541,6.88504091669702,7.172722989148801,7.172722989148801,7.498145389583429,7.578188097256965,7.98365320536513,8.117184597989652,448.0])|[1.0,1.6205585643218613E-25,7.866473610180808E-27,1.5871322545177403E-31,4.34103161376607E-62]               |0.0       |\n",
      "|(38356,[1,8,28,32,52,65,156,158,182,195,205,298,328,348,352,379,407,526,570,580,1009,1199,1211,1281,1308,1479,1656,11008,38355],[1.542706664732209,1.9433984940877158,2.4302092416498327,2.4880230475374048,2.7112948779871893,2.839069938759135,3.510586860010376,3.5034795095517235,3.620554580576767,3.664499812509758,3.708724706247615,4.061679869083815,4.1742167887120845,4.193797833911192,4.213769967098107,4.310522108219333,4.359312272388765,4.633749118090525,4.744974753200749,4.754827049643761,5.418703847903593,5.620443490554649,5.6563754997807125,5.706385920355374,5.745606633508655,5.888707477149328,6.037743056309816,8.676800385925075,403.0])                                                                                                                                                                                                                                                                                      |[1.3275687968056502E-39,6.915975674057967E-11,0.9970975402830253,0.0029024596478147806,3.085868306217557E-19]|2.0       |\n",
      "|(38356,[3,13,17,38,42,44,70,85,117,132,383,397,483,580,586,603,745,771,790,1202,1769,2400,3046,4304,4512,7503,9086,38355],[1.4370471507166462,2.045128043551367,4.361559656129396,2.517176595835643,2.6124339508334264,2.8267554042906218,2.8792240319825133,3.0375564324064452,3.2957516217795737,3.3586803920808586,4.316891556504813,4.349361941535596,4.553706410416988,4.754827049643761,4.826652784215017,4.86459771577914,5.006848941696657,5.07266216026623,5.121452324435661,5.6322779482016525,6.111851028463538,6.536734222428804,6.927600531115816,7.424037417429707,7.498145389583429,8.271335277816911,8.453656834610864,326.0])                                                                                                                                                                                                                                                                                                               |[3.289806960466846E-6,1.3716012691015791E-15,2.4147694998270805E-5,0.30037603907565863,0.6995965234223812]   |4.0       |\n",
      "|(38356,[5,6,51,62,72,84,92,100,109,125,126,137,159,180,195,221,222,229,307,336,473,479,541,561,613,765,1085,1516,2240,38355],[1.517897359219131,1.7997620796049987,2.686586620718746,2.839799067482651,2.9839103524352977,3.1190075388154384,3.1613575403883916,3.2496501475340698,3.262924678742766,3.3772337999766067,3.436376997795941,3.4025195972052797,3.5020640811483927,3.6078961837048436,3.664499812509758,3.7921063151866665,3.8131195047854827,3.8345837434537824,4.1686919127801145,4.193797833911192,4.553706410416988,4.620677036523173,4.674023017228465,4.715987216327497,4.821347731985323,5.059148441099507,5.509217855444425,5.919960020653433,6.507746685555552,301.0])                                                                                                                                                                                                                                                                 |[0.9999999999999551,4.48097457460306E-14,6.546687303417719E-31,1.0831581726462537E-36,1.1816553198721199E-63]|0.0       |\n",
      "+-------------------------------------------------------------------------------------------------------------------------------------------------------------------------------------------------------------------------------------------------------------------------------------------------------------------------------------------------------------------------------------------------------------------------------------------------------------------------------------------------------------------------------------------------------------------------------------------------------------------------------------------------------------------------------------------------------------------------------------------------------------------------------------------------------------------------------------------------------------------------------------------------------------------------------------------------------------+-------------------------------------------------------------------------------------------------------------+----------+\n",
      "\n"
     ]
    }
   ],
   "source": [
    "predictions[[\"features\", \"probability\", \"prediction\"]].show(5, False)"
   ]
  },
  {
   "cell_type": "code",
   "execution_count": 65,
   "id": "30bfa320",
   "metadata": {},
   "outputs": [
    {
     "name": "stdout",
     "output_type": "stream",
     "text": [
      "Row(features=SparseVector(38356, {1: 3.0854, 6: 1.7998, 10: 1.9269, 16: 2.1991, 19: 2.2216, 20: 2.1937, 28: 2.4302, 32: 2.488, 50: 2.6785, 54: 2.7347, 85: 6.0751, 138: 3.3848, 175: 3.5923, 201: 3.6881, 238: 3.8667, 290: 4.0792, 342: 4.2341, 348: 4.1938, 430: 4.5179, 586: 4.8267, 1265: 5.7064, 1473: 5.9042, 2075: 6.3495, 2290: 6.5077, 2963: 6.885, 3022: 6.9721, 3586: 7.1727, 3809: 7.2905, 6099: 7.9837, 6612: 8.1172, 38355: 336.0}), probability=DenseVector([0.0, 0.0, 1.0, 0.0, 0.0]), prediction=2.0) \n",
      "\n",
      "Row(features=SparseVector(38356, {7: 3.406, 9: 1.9357, 13: 2.0451, 21: 2.265, 24: 2.3462, 33: 2.5289, 35: 2.5321, 42: 2.6124, 54: 2.7347, 71: 2.968, 82: 3.0147, 89: 3.1132, 118: 3.2889, 124: 3.3587, 147: 3.4311, 184: 3.6932, 188: 3.6562, 197: 3.6628, 200: 3.6513, 208: 3.7423, 215: 3.7827, 308: 4.249, 362: 4.24, 457: 4.5024, 506: 4.5908, 637: 4.8591, 682: 4.9571, 684: 5.0197, 704: 4.9755, 705: 5.1003, 713: 5.0005, 814: 5.1286, 1194: 5.6087, 1460: 5.8734, 2951: 6.885, 3548: 7.1727, 3606: 7.1727, 4314: 7.4981, 4777: 7.5782, 6057: 7.9837, 6936: 8.1172, 38355: 448.0}), probability=DenseVector([1.0, 0.0, 0.0, 0.0, 0.0]), prediction=0.0) \n",
      "\n",
      "Row(features=SparseVector(38356, {1: 1.5427, 8: 1.9434, 28: 2.4302, 32: 2.488, 52: 2.7113, 65: 2.8391, 156: 3.5106, 158: 3.5035, 182: 3.6206, 195: 3.6645, 205: 3.7087, 298: 4.0617, 328: 4.1742, 348: 4.1938, 352: 4.2138, 379: 4.3105, 407: 4.3593, 526: 4.6337, 570: 4.745, 580: 4.7548, 1009: 5.4187, 1199: 5.6204, 1211: 5.6564, 1281: 5.7064, 1308: 5.7456, 1479: 5.8887, 1656: 6.0377, 11008: 8.6768, 38355: 403.0}), probability=DenseVector([0.0, 0.0, 0.9971, 0.0029, 0.0]), prediction=2.0) \n",
      "\n",
      "Row(features=SparseVector(38356, {3: 1.437, 13: 2.0451, 17: 4.3616, 38: 2.5172, 42: 2.6124, 44: 2.8268, 70: 2.8792, 85: 3.0376, 117: 3.2958, 132: 3.3587, 383: 4.3169, 397: 4.3494, 483: 4.5537, 580: 4.7548, 586: 4.8267, 603: 4.8646, 745: 5.0068, 771: 5.0727, 790: 5.1215, 1202: 5.6323, 1769: 6.1119, 2400: 6.5367, 3046: 6.9276, 4304: 7.424, 4512: 7.4981, 7503: 8.2713, 9086: 8.4537, 38355: 326.0}), probability=DenseVector([0.0, 0.0, 0.0, 0.3004, 0.6996]), prediction=4.0) \n",
      "\n",
      "Row(features=SparseVector(38356, {5: 1.5179, 6: 1.7998, 51: 2.6866, 62: 2.8398, 72: 2.9839, 84: 3.119, 92: 3.1614, 100: 3.2497, 109: 3.2629, 125: 3.3772, 126: 3.4364, 137: 3.4025, 159: 3.5021, 180: 3.6079, 195: 3.6645, 221: 3.7921, 222: 3.8131, 229: 3.8346, 307: 4.1687, 336: 4.1938, 473: 4.5537, 479: 4.6207, 541: 4.674, 561: 4.716, 613: 4.8213, 765: 5.0591, 1085: 5.5092, 1516: 5.92, 2240: 6.5077, 38355: 301.0}), probability=DenseVector([1.0, 0.0, 0.0, 0.0, 0.0]), prediction=0.0) \n",
      "\n"
     ]
    }
   ],
   "source": [
    "for pre in predictions[[\"features\", \"probability\", \"prediction\"]].head(5):\n",
    "    print(pre, '\\n')"
   ]
  },
  {
   "cell_type": "code",
   "execution_count": null,
   "id": "39b6bd57",
   "metadata": {},
   "outputs": [],
   "source": []
  }
 ],
 "metadata": {
  "kernelspec": {
   "display_name": "Python 3",
   "language": "python",
   "name": "python3"
  },
  "language_info": {
   "codemirror_mode": {
    "name": "ipython",
    "version": 3
   },
   "file_extension": ".py",
   "mimetype": "text/x-python",
   "name": "python",
   "nbconvert_exporter": "python",
   "pygments_lexer": "ipython3",
   "version": "3.6.8"
  }
 },
 "nbformat": 4,
 "nbformat_minor": 5
}
